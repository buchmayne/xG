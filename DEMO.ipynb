{
 "cells": [
  {
   "cell_type": "code",
   "execution_count": 1,
   "id": "38105752-3990-4961-a8d5-1eae8073f253",
   "metadata": {},
   "outputs": [],
   "source": [
    "import cv2"
   ]
  },
  {
   "cell_type": "code",
   "execution_count": 2,
   "id": "7bdd2f6e-27ba-40d4-8151-1562011d6fea",
   "metadata": {},
   "outputs": [
    {
     "name": "stdout",
     "output_type": "stream",
     "text": [
      "53970.0\n",
      "True (1536, 3840, 3)\n"
     ]
    }
   ],
   "source": [
    "cap = cv2.VideoCapture('09-18-2025_0800PM.mp4')\n",
    "print(cap.get(cv2.CAP_PROP_FRAME_COUNT))  # Should show total frames\n",
    "ret, frame = cap.read()\n",
    "print(ret, frame.shape if ret else \"Failed\")"
   ]
  },
  {
   "cell_type": "code",
   "execution_count": 3,
   "id": "a6ac8537-1053-492f-9a6a-ef082b7b3b2d",
   "metadata": {},
   "outputs": [
    {
     "name": "stdout",
     "output_type": "stream",
     "text": [
      "44665.0\n",
      "True (1536, 3840, 3)\n"
     ]
    }
   ],
   "source": [
    "cap = cv2.VideoCapture('09-18-2025_0800PM_clean.mp4')\n",
    "print(cap.get(cv2.CAP_PROP_FRAME_COUNT))  # Should show total frames\n",
    "ret, frame = cap.read()\n",
    "print(ret, frame.shape if ret else \"Failed\")"
   ]
  },
  {
   "cell_type": "code",
   "execution_count": 4,
   "id": "2f452f9d-bfd7-4604-bc71-fd34c9d7ae57",
   "metadata": {},
   "outputs": [
    {
     "name": "stdout",
     "output_type": "stream",
     "text": [
      "0.0\n",
      "False Failed\n"
     ]
    },
    {
     "name": "stderr",
     "output_type": "stream",
     "text": [
      "[mov,mp4,m4a,3gp,3g2,mj2 @ 0x101ece160] moov atom not found\n",
      "OpenCV: Couldn't read video stream from file \"09-18-2025_0830PM.mp4\"\n"
     ]
    }
   ],
   "source": [
    "cap = cv2.VideoCapture('09-18-2025_0830PM.mp4')\n",
    "print(cap.get(cv2.CAP_PROP_FRAME_COUNT))  # Should show total frames\n",
    "ret, frame = cap.read()\n",
    "print(ret, frame.shape if ret else \"Failed\")"
   ]
  },
  {
   "cell_type": "code",
   "execution_count": null,
   "id": "81011e3c-f537-478f-bc8f-b91f93ee5189",
   "metadata": {},
   "outputs": [],
   "source": []
  }
 ],
 "metadata": {
  "kernelspec": {
   "display_name": "Python 3 (ipykernel)",
   "language": "python",
   "name": "python3"
  },
  "language_info": {
   "codemirror_mode": {
    "name": "ipython",
    "version": 3
   },
   "file_extension": ".py",
   "mimetype": "text/x-python",
   "name": "python",
   "nbconvert_exporter": "python",
   "pygments_lexer": "ipython3",
   "version": "3.12.8"
  }
 },
 "nbformat": 4,
 "nbformat_minor": 5
}
